{
 "cells": [
  {
   "cell_type": "code",
   "execution_count": 58,
   "metadata": {},
   "outputs": [
    {
     "data": {
      "text/plain": [
       "'drug disease interaction'"
      ]
     },
     "execution_count": 58,
     "metadata": {},
     "output_type": "execute_result"
    }
   ],
   "source": [
    "'DRUG DISEASE INTERACTION'.lower()"
   ]
  },
  {
   "cell_type": "code",
   "execution_count": 41,
   "metadata": {},
   "outputs": [
    {
     "data": {
      "text/html": [
       "<div>\n",
       "<style scoped>\n",
       "    .dataframe tbody tr th:only-of-type {\n",
       "        vertical-align: middle;\n",
       "    }\n",
       "\n",
       "    .dataframe tbody tr th {\n",
       "        vertical-align: top;\n",
       "    }\n",
       "\n",
       "    .dataframe thead th {\n",
       "        text-align: right;\n",
       "    }\n",
       "</style>\n",
       "<table border=\"1\" class=\"dataframe\">\n",
       "  <thead>\n",
       "    <tr style=\"text-align: right;\">\n",
       "      <th></th>\n",
       "      <th>indication</th>\n",
       "    </tr>\n",
       "    <tr>\n",
       "      <th>cuis</th>\n",
       "      <th></th>\n",
       "    </tr>\n",
       "  </thead>\n",
       "  <tbody>\n",
       "    <tr>\n",
       "      <th>C0043037</th>\n",
       "      <td>Verruca</td>\n",
       "    </tr>\n",
       "    <tr>\n",
       "      <th>C0009663</th>\n",
       "      <td>Condyloma acuminatum</td>\n",
       "    </tr>\n",
       "    <tr>\n",
       "      <th>C0862889</th>\n",
       "      <td>Superficial basal cell carcinoma</td>\n",
       "    </tr>\n",
       "    <tr>\n",
       "      <th>C0022602</th>\n",
       "      <td>Actinic keratosis</td>\n",
       "    </tr>\n",
       "    <tr>\n",
       "      <th>C0334579</th>\n",
       "      <td>Astrocytoma, anaplastic</td>\n",
       "    </tr>\n",
       "    <tr>\n",
       "      <th>...</th>\n",
       "      <td>...</td>\n",
       "    </tr>\n",
       "    <tr>\n",
       "      <th>C0029456</th>\n",
       "      <td>Osteoporosis</td>\n",
       "    </tr>\n",
       "    <tr>\n",
       "      <th>C0029458</th>\n",
       "      <td>Postmenopausal osteoporosis</td>\n",
       "    </tr>\n",
       "    <tr>\n",
       "      <th>C0149911</th>\n",
       "      <td>Humoral hypercalcemia of malignancy</td>\n",
       "    </tr>\n",
       "    <tr>\n",
       "      <th>C0029401</th>\n",
       "      <td>Osteitis deformans</td>\n",
       "    </tr>\n",
       "    <tr>\n",
       "      <th>C0376358</th>\n",
       "      <td>Malignant tumor of prostate</td>\n",
       "    </tr>\n",
       "  </tbody>\n",
       "</table>\n",
       "<p>82 rows × 1 columns</p>\n",
       "</div>"
      ],
      "text/plain": [
       "                                   indication\n",
       "cuis                                         \n",
       "C0043037                              Verruca\n",
       "C0009663                 Condyloma acuminatum\n",
       "C0862889     Superficial basal cell carcinoma\n",
       "C0022602                    Actinic keratosis\n",
       "C0334579              Astrocytoma, anaplastic\n",
       "...                                       ...\n",
       "C0029456                         Osteoporosis\n",
       "C0029458          Postmenopausal osteoporosis\n",
       "C0149911  Humoral hypercalcemia of malignancy\n",
       "C0029401                   Osteitis deformans\n",
       "C0376358          Malignant tumor of prostate\n",
       "\n",
       "[82 rows x 1 columns]"
      ]
     },
     "execution_count": 41,
     "metadata": {},
     "output_type": "execute_result"
    }
   ],
   "source": [
    "import os\n",
    "import numpy as np\n",
    "import pandas as pd\n",
    "\n",
    "disease_cuis_file = '../Data/DRUG-DISEASE/disease_cuis.csv'\n",
    "disease_feat_file = '../Data/DRUG-DISEASE/disease_embd.npy'\n",
    "drug_interaction_file = '../Data/DRUG-DISEASE/drug_disease_indication.csv'\n",
    "\n",
    "disease_fea = np.load(disease_feat_file)\n",
    "disease_cuis = pd.read_csv(disease_cuis_file, index_col=0)\n",
    "disease_cuis"
   ]
  },
  {
   "cell_type": "code",
   "execution_count": 56,
   "metadata": {},
   "outputs": [
    {
     "data": {
      "text/plain": [
       "82"
      ]
     },
     "execution_count": 56,
     "metadata": {},
     "output_type": "execute_result"
    }
   ],
   "source": [
    "disease_num = len(disease_cuis)\n",
    "disease_map = range(drug_num + cell)"
   ]
  },
  {
   "cell_type": "code",
   "execution_count": 43,
   "metadata": {},
   "outputs": [
    {
     "data": {
      "text/html": [
       "<div>\n",
       "<style scoped>\n",
       "    .dataframe tbody tr th:only-of-type {\n",
       "        vertical-align: middle;\n",
       "    }\n",
       "\n",
       "    .dataframe tbody tr th {\n",
       "        vertical-align: top;\n",
       "    }\n",
       "\n",
       "    .dataframe thead th {\n",
       "        text-align: right;\n",
       "    }\n",
       "</style>\n",
       "<table border=\"1\" class=\"dataframe\">\n",
       "  <thead>\n",
       "    <tr style=\"text-align: right;\">\n",
       "      <th></th>\n",
       "      <th>pubchemid</th>\n",
       "      <th>cuis</th>\n",
       "      <th>indication</th>\n",
       "    </tr>\n",
       "  </thead>\n",
       "  <tbody>\n",
       "    <tr>\n",
       "      <th>0</th>\n",
       "      <td>57469</td>\n",
       "      <td>C0043037</td>\n",
       "      <td>Verruca</td>\n",
       "    </tr>\n",
       "    <tr>\n",
       "      <th>1</th>\n",
       "      <td>57469</td>\n",
       "      <td>C0009663</td>\n",
       "      <td>Condyloma acuminatum</td>\n",
       "    </tr>\n",
       "    <tr>\n",
       "      <th>2</th>\n",
       "      <td>57469</td>\n",
       "      <td>C0862889</td>\n",
       "      <td>Superficial basal cell carcinoma</td>\n",
       "    </tr>\n",
       "    <tr>\n",
       "      <th>3</th>\n",
       "      <td>57469</td>\n",
       "      <td>C0022602</td>\n",
       "      <td>Actinic keratosis</td>\n",
       "    </tr>\n",
       "    <tr>\n",
       "      <th>4</th>\n",
       "      <td>5394</td>\n",
       "      <td>C0334579</td>\n",
       "      <td>Astrocytoma, anaplastic</td>\n",
       "    </tr>\n",
       "    <tr>\n",
       "      <th>...</th>\n",
       "      <td>...</td>\n",
       "      <td>...</td>\n",
       "      <td>...</td>\n",
       "    </tr>\n",
       "    <tr>\n",
       "      <th>117</th>\n",
       "      <td>148124</td>\n",
       "      <td>C0007131</td>\n",
       "      <td>Non-small cell lung cancer</td>\n",
       "    </tr>\n",
       "    <tr>\n",
       "      <th>118</th>\n",
       "      <td>148124</td>\n",
       "      <td>C0024623</td>\n",
       "      <td>Malignant tumor of stomach</td>\n",
       "    </tr>\n",
       "    <tr>\n",
       "      <th>119</th>\n",
       "      <td>148124</td>\n",
       "      <td>C0376358</td>\n",
       "      <td>Malignant tumor of prostate</td>\n",
       "    </tr>\n",
       "    <tr>\n",
       "      <th>120</th>\n",
       "      <td>3902</td>\n",
       "      <td>C1562029</td>\n",
       "      <td>Hormone receptor positive malignant neoplasm o...</td>\n",
       "    </tr>\n",
       "    <tr>\n",
       "      <th>121</th>\n",
       "      <td>60198</td>\n",
       "      <td>C1562029</td>\n",
       "      <td>Hormone receptor positive malignant neoplasm o...</td>\n",
       "    </tr>\n",
       "  </tbody>\n",
       "</table>\n",
       "<p>122 rows × 3 columns</p>\n",
       "</div>"
      ],
      "text/plain": [
       "     pubchemid      cuis                                         indication\n",
       "0        57469  C0043037                                            Verruca\n",
       "1        57469  C0009663                               Condyloma acuminatum\n",
       "2        57469  C0862889                   Superficial basal cell carcinoma\n",
       "3        57469  C0022602                                  Actinic keratosis\n",
       "4         5394  C0334579                            Astrocytoma, anaplastic\n",
       "..         ...       ...                                                ...\n",
       "117     148124  C0007131                         Non-small cell lung cancer\n",
       "118     148124  C0024623                         Malignant tumor of stomach\n",
       "119     148124  C0376358                        Malignant tumor of prostate\n",
       "120       3902  C1562029  Hormone receptor positive malignant neoplasm o...\n",
       "121      60198  C1562029  Hormone receptor positive malignant neoplasm o...\n",
       "\n",
       "[122 rows x 3 columns]"
      ]
     },
     "execution_count": 43,
     "metadata": {},
     "output_type": "execute_result"
    }
   ],
   "source": [
    "interaction_load = pd.read_csv(drug_interaction_file)\n",
    "interaction_load"
   ]
  },
  {
   "cell_type": "code",
   "execution_count": 45,
   "metadata": {},
   "outputs": [],
   "source": [
    "_, (pubchemid, cuis, _) = interaction_load.iterrows().__iter__().__next__()"
   ]
  },
  {
   "cell_type": "code",
   "execution_count": 46,
   "metadata": {},
   "outputs": [
    {
     "data": {
      "text/plain": [
       "57469"
      ]
     },
     "execution_count": 46,
     "metadata": {},
     "output_type": "execute_result"
    }
   ],
   "source": [
    "pubchemid"
   ]
  },
  {
   "cell_type": "code",
   "execution_count": 47,
   "metadata": {},
   "outputs": [
    {
     "data": {
      "text/plain": [
       "'C0043037'"
      ]
     },
     "execution_count": 47,
     "metadata": {},
     "output_type": "execute_result"
    }
   ],
   "source": [
    "cuis"
   ]
  }
 ],
 "metadata": {
  "kernelspec": {
   "display_name": "hsyn",
   "language": "python",
   "name": "python3"
  },
  "language_info": {
   "codemirror_mode": {
    "name": "ipython",
    "version": 3
   },
   "file_extension": ".py",
   "mimetype": "text/x-python",
   "name": "python",
   "nbconvert_exporter": "python",
   "pygments_lexer": "ipython3",
   "version": "3.8.18"
  },
  "orig_nbformat": 4
 },
 "nbformat": 4,
 "nbformat_minor": 2
}
